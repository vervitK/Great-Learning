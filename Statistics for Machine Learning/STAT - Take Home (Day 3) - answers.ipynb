{
 "cells": [
  {
   "cell_type": "markdown",
   "metadata": {},
   "source": [
    "<table align=\"center\" width=100%>\n",
    "    <tr>\n",
    "        <td width=\"15%\">\n",
    "            <img src=\"homework.png\">\n",
    "        </td>\n",
    "        <td>\n",
    "            <div align=\"center\">\n",
    "                <font color=\"#21618C\" size=8px>\n",
    "                    <b> Take-Home <br>(Day 3)\n",
    "                    </b>\n",
    "                </font>\n",
    "            </div>\n",
    "        </td>\n",
    "    </tr>\n",
    "</table>"
   ]
  },
  {
   "cell_type": "markdown",
   "metadata": {},
   "source": [
    "**Import the required libraries**"
   ]
  },
  {
   "cell_type": "code",
   "execution_count": 1,
   "metadata": {},
   "outputs": [],
   "source": [
    "# import 'pandas' \n",
    "import pandas as pd \n",
    "\n",
    "# import 'numpy' \n",
    "import numpy as np\n",
    "\n",
    "# import subpackage of matplotlib\n",
    "import matplotlib.pyplot as plt\n",
    "\n",
    "# import 'seaborn'\n",
    "import seaborn as sns\n",
    "\n",
    "# to suppress warnings \n",
    "from warnings import filterwarnings\n",
    "filterwarnings('ignore')\n",
    "\n",
    "# import statsmodels\n",
    "import statsmodels.api as sm\n",
    "\n",
    "# import 'stats' package from scipy library\n",
    "from scipy import stats\n",
    "\n",
    "# import statistics to perform statistical computations\n",
    "import statistics\n",
    "\n",
    "# to test the normality \n",
    "from scipy.stats import shapiro\n",
    "\n",
    "# import a library to perform Z-test\n",
    "from statsmodels.stats import weightstats as stests"
   ]
  },
  {
   "cell_type": "markdown",
   "metadata": {},
   "source": [
    "### Let's begin with some hands-on practice exercises"
   ]
  },
  {
   "cell_type": "markdown",
   "metadata": {
    "collapsed": true
   },
   "source": [
    "<table align=\"left\">\n",
    "    <tr>\n",
    "        <td width=\"6%\">\n",
    "            <img src=\"question_icon.png\">\n",
    "        </td>\n",
    "        <td>\n",
    "            <div align=\"left\", style=\"font-size:120%\">\n",
    "                <font color=\"#21618C\">\n",
    "                    <b>1. A research paper in the medical journal claims that the average height of females in Nebraska is less than 168 cm. A group of physicians conducted a survey and collected the heights of 95 females from Nebraska, and recorded the average height as 163 cm with a standard deviation of 7 cm. Assume that the sample is drawn from a normally distributed population. Test the claim in the research paper using the 95% confidence interval for the population mean.</b>\n",
    "                </font>\n",
    "            </div>\n",
    "        </td>\n",
    "    </tr>\n",
    "</table>"
   ]
  },
  {
   "cell_type": "code",
   "execution_count": 6,
   "metadata": {},
   "outputs": [
    {
     "name": "stdout",
     "output_type": "stream",
     "text": [
      "166.81869105047932 is the critical value\n",
      "1.6774256373319512e-12  is the p_value\n"
     ]
    }
   ],
   "source": [
    "mu = 168\n",
    "n = 95\n",
    "avg = 163\n",
    "std = 7\n",
    "alpha = 0.05\n",
    "se = std/np.sqrt(n)\n",
    "\n",
    "# one tailed-left tailed test\n",
    "print(stats.norm.isf(0.95,loc=mu,scale=se),'is the critical value')\n",
    "print(stats.norm.cdf(avg,loc=mu,scale=se),' is the p_value')\n",
    "# since p_value < alpha , we reject null and the average height of females in Nebraska is less than 168 cm."
   ]
  },
  {
   "cell_type": "markdown",
   "metadata": {
    "collapsed": true
   },
   "source": [
    "<table align=\"left\">\n",
    "    <tr>\n",
    "        <td width=\"6%\">\n",
    "            <img src=\"question_icon.png\">\n",
    "        </td>\n",
    "        <td>\n",
    "            <div align=\"left\", style=\"font-size:120%\">\n",
    "                <font color=\"#21618C\">\n",
    "                    <b>2. A financial firm AlpaMoney has recently started their online payment gateway and claims that the level of customer satisfaction about the transactions is the same as that of their competitor firm PayEarly. Consider the equality of an average level of satisfaction as the null hypothesis and test the claim using a critical value method with 90% confidence.</b>\n",
    "                </font>\n",
    "            </div>\n",
    "        </td>\n",
    "    </tr>\n",
    "</table>"
   ]
  },
  {
   "cell_type": "markdown",
   "metadata": {},
   "source": [
    "<img src='2_z.png'>"
   ]
  },
  {
   "cell_type": "code",
   "execution_count": 26,
   "metadata": {},
   "outputs": [
    {
     "name": "stdout",
     "output_type": "stream",
     "text": [
      "1.2815515655446004\n",
      "z-score: 8.91135766652653\n"
     ]
    }
   ],
   "source": [
    "def TwoSampZTest(samp_mean_1, samp_mean_2, samp_std_1, samp_std_2, value, n1, n2):\n",
    "    \n",
    "    # calculate the test statistic\n",
    "    denominator = np.sqrt((samp_std_1**2 / n1) + (samp_std_2**2 / n2))\n",
    "    zscore = ((samp_mean_1 - samp_mean_2) - (value)) / denominator\n",
    "    \n",
    "    # return the z-score\n",
    "    return zscore\n",
    "\n",
    "# given data\n",
    "sm_1 = 4.23\n",
    "sm_2 = 3.56\n",
    "sstd_1 = 1.6\n",
    "sstd_2 = 0.72\n",
    "null_val = 0\n",
    "n_1 = 527\n",
    "n_2 = 652\n",
    "\n",
    "# pass the given data to the function 'TwoSampZTest'\n",
    "zscore = TwoSampZTest(samp_mean_1 = sm_1, samp_mean_2 = sm_2, samp_std_1 = sstd_1, samp_std_2 = sstd_2, value = null_val, \n",
    "                      n1 = n_1, n2 = n_2)\n",
    "print(stats.norm.isf(0.1,loc=0,scale=1))\n",
    "print('z-score:', zscore)\n",
    "# since z -score > 1.28,\n",
    "# we reject null hypothesis and there is non- equality of an average level of satisfaction."
   ]
  },
  {
   "cell_type": "markdown",
   "metadata": {
    "collapsed": true
   },
   "source": [
    "<table align=\"left\">\n",
    "    <tr>\n",
    "        <td width=\"6%\">\n",
    "            <img src=\"question_icon.png\">\n",
    "        </td>\n",
    "        <td>\n",
    "            <div align=\"left\", style=\"font-size:120%\">\n",
    "                <font color=\"#21618C\">\n",
    "                    <b>3. The economic journal claims that the students who graduated from tier 1 universities get more salary than the average salary of 35000$. A random sample of 20 graduated students is selected to test the claim. Use p-value criteria to test the claim with 0.1 as a level of significance.\n",
    "</b>\n",
    "                </font>\n",
    "            </div>\n",
    "        </td>\n",
    "    </tr>\n",
    "</table>"
   ]
  },
  {
   "cell_type": "markdown",
   "metadata": {},
   "source": [
    "Use the data given below:\n",
    "\n",
    "        salary = [29560, 26534, 31020, 44300, 52335, 69190, 71100, 80100, 90000, 41002, 46118, 88129, 79713, 95881, 47989,\n",
    "                  15188, 91631, 96189, 77819, 79590]"
   ]
  },
  {
   "cell_type": "code",
   "execution_count": 24,
   "metadata": {},
   "outputs": [
    {
     "name": "stdout",
     "output_type": "stream",
     "text": [
      "62669.4 is the avg value\n",
      "42689.478619545764 : critical value\n",
      "6.544700826360828e-05 : p value\n",
      "4.777624690114069 : t_stat, 6.544700826360017e-05 : p_val\n"
     ]
    }
   ],
   "source": [
    "salary = [29560, 26534, 31020, 44300, 52335, 69190, 71100, 80100, 90000, 41002, 46118, 88129, 79713, 95881, 47989,\n",
    "              15188, 91631, 96189, 77819, 79590]\n",
    "mu = 35000\n",
    "n = 20\n",
    "alpha = 0.1\n",
    "avg = np.mean(salary)\n",
    "print(avg,'is the avg value')\n",
    "std = np.std(salary,ddof=1)\n",
    "se = std/np.sqrt(n)\n",
    "print(stats.t.isf(0.1,df=n-1,loc=mu,scale=se),': critical value')\n",
    "print(1 - stats.t.cdf(avg,df=n-1,loc=mu,scale=se),': p value')\n",
    "\n",
    "t_stat,p_val = stats.ttest_1samp(salary,35000)  # by default, it gives us for 2 tailed p-value.\n",
    "print(t_stat,': t_stat,',p_val/2,': p_val') \n",
    "# since p_value < alpha ,\n",
    "# we reject null and tier 1 universities students get more salary than the average salary of 35000."
   ]
  },
  {
   "cell_type": "markdown",
   "metadata": {
    "collapsed": true
   },
   "source": [
    "<table align=\"left\">\n",
    "    <tr>\n",
    "        <td width=\"6%\">\n",
    "            <img src=\"question_icon.png\">\n",
    "        </td>\n",
    "        <td>\n",
    "            <div align=\"left\", style=\"font-size:120%\">\n",
    "                <font color=\"#21618C\">\n",
    "                    <b>4. Amy and Susan are national level swimmers. Their coach conducts five rounds each of 400 m and records the time taken by the individuals. Perform a two sample t-test by plotting the acceptance and rejection regions to test whether there is any difference between the average time taken by Amy and Susan. Use 0.05 as a level of significance.</b>\n",
    "                </font>\n",
    "            </div>\n",
    "        </td>\n",
    "    </tr>\n",
    "</table>"
   ]
  },
  {
   "cell_type": "markdown",
   "metadata": {},
   "source": [
    "Use the timing (in minutes) given below:\n",
    "\n",
    "        Amy_time = [4.2, 3, 3.8, 5, 4.6]\n",
    "        Susan_time = [5.2, 4.6, 3.9, 4.4, 5]"
   ]
  },
  {
   "cell_type": "code",
   "execution_count": 53,
   "metadata": {},
   "outputs": [
    {
     "name": "stdout",
     "output_type": "stream",
     "text": [
      "1.8595480375228428 : critical value for 2 tailed t test\n",
      "-1.209834796239568 0.26087578765496466\n"
     ]
    }
   ],
   "source": [
    "amy = [4.2, 3, 3.8, 5, 4.6]\n",
    "susan = [5.2, 4.6, 3.9, 4.4, 5]\n",
    "# given data\n",
    "df = len(amy) + len(susan) - 2\n",
    "print(stats.t.isf(0.05,df=df,loc=0,scale=1),': critical value for 2 tailed t test')\n",
    "\n",
    "t_stat, p_val = stats.ttest_ind(a = amy, b = susan)\n",
    "print(t_stat,p_val)\n",
    "# since critical value > t stat and p_val > alpha, we fail to reject null."
   ]
  },
  {
   "cell_type": "markdown",
   "metadata": {
    "collapsed": true
   },
   "source": [
    "<table align=\"left\">\n",
    "    <tr>\n",
    "        <td width=\"6%\">\n",
    "            <img src=\"question_icon.png\">\n",
    "        </td>\n",
    "        <td>\n",
    "            <div align=\"left\", style=\"font-size:120%\">\n",
    "                <font color=\"#21618C\">\n",
    "                    <b>5. A multinational company had organized a presentation activity to test the soft skills of their 6 sales executives and then offered them a skill development course. After the completion of the course, the executives again appeared for the presentation and the scores before and after the course are recorded. Test the company's claim that the course was effective in developing soft skills with 90% confidence using the p-value technique.</b>\n",
    "                </font>\n",
    "            </div>\n",
    "        </td>\n",
    "    </tr>\n",
    "</table>"
   ]
  },
  {
   "cell_type": "markdown",
   "metadata": {},
   "source": [
    "Consider the scores given in the file `paired_data.xlsx`"
   ]
  },
  {
   "cell_type": "code",
   "execution_count": 44,
   "metadata": {},
   "outputs": [],
   "source": [
    "import pandas as pd\n",
    "pd1 = pd.read_excel('paired_data.xlsx')"
   ]
  },
  {
   "cell_type": "code",
   "execution_count": 63,
   "metadata": {},
   "outputs": [
    {
     "name": "stdout",
     "output_type": "stream",
     "text": [
      "ShapiroResult(statistic=0.989802360534668, pvalue=0.9886868596076965)\n",
      "Ttest_relResult(statistic=-2.75783135866153, pvalue=0.03993727174744146)\n"
     ]
    }
   ],
   "source": [
    "print(shapiro(pd1.before_score+pd1.after_score)) \n",
    "# data is normal\n",
    "print(stats.ttest_rel(pd1.before_score,pd1.after_score))\n",
    "# since p_value < alpha(0.1), we reject null and\n",
    "# company's claim that the course was effective in developing soft skills is true."
   ]
  },
  {
   "cell_type": "markdown",
   "metadata": {
    "collapsed": true
   },
   "source": [
    "<table align=\"left\">\n",
    "    <tr>\n",
    "        <td width=\"6%\">\n",
    "            <img src=\"question_icon.png\">\n",
    "        </td>\n",
    "        <td>\n",
    "            <div align=\"left\", style=\"font-size:120%\">\n",
    "                <font color=\"#21618C\">\n",
    "                    <b>6. A survey conducted by the department of education states that the proportion of students who quit education due to financial crisis is more than 38%. To test this claim a group of 450 students is selected out of which 205 are found to be dropped out from school due to financial crisis. Test the claim using a critical value method with 95% confidence. </b>\n",
    "                </font>\n",
    "            </div>\n",
    "        </td>\n",
    "    </tr>\n",
    "</table>"
   ]
  },
  {
   "cell_type": "code",
   "execution_count": 47,
   "metadata": {},
   "outputs": [
    {
     "name": "stdout",
     "output_type": "stream",
     "text": [
      "(0.4095416292006592, 0.5015694819104519)\n"
     ]
    }
   ],
   "source": [
    "n = 450\n",
    "x = 205\n",
    "p = x/n\n",
    "scale = np.sqrt((p*(1-p))/n)\n",
    "print(stats.norm.interval(0.95,loc=p,scale=scale))\n",
    "# since 0.38 doesn't fall in the interval, we reject null \n",
    "# and the proportion of students who quit education due to financial crisis is more than 38%. "
   ]
  },
  {
   "cell_type": "markdown",
   "metadata": {
    "collapsed": true
   },
   "source": [
    "<table align=\"left\">\n",
    "    <tr>\n",
    "        <td width=\"6%\">\n",
    "            <img src=\"question_icon.png\">\n",
    "        </td>\n",
    "        <td>\n",
    "            <div align=\"left\", style=\"font-size:120%\">\n",
    "                <font color=\"#21618C\">\n",
    "                    <b>7. Two leading medical institutes CureOn and MedFirst have produced new vaccines on ebola. The vaccine produced by CureOn is given to 252 people in the UK out of which 78 had severe side-effects also the vaccine produced by MedFirst is given to 425 people in the UK out of which 92 had severe side-effects. Can we conclude that the vaccine produced by MedFirst is more reliable? Test the claim using p-value technique with 99% confidence.</b>\n",
    "                </font>\n",
    "            </div>\n",
    "        </td>\n",
    "    </tr>\n",
    "</table>"
   ]
  },
  {
   "cell_type": "code",
   "execution_count": 56,
   "metadata": {},
   "outputs": [
    {
     "name": "stdout",
     "output_type": "stream",
     "text": [
      "p-value: 0.0034781130027344885\n"
     ]
    }
   ],
   "source": [
    "z_prop, p_val = sm.stats.proportions_ztest(count = np.array([78,92]), \n",
    "                                             nobs = np.array([252,425]),  \n",
    "                                             alternative = 'larger')\n",
    "\n",
    "# print the p-value\n",
    "print('p-value:', p_val)\n",
    "# since pvalue < alpha, we reject null and  the vaccine produced by MedFirst is more reliable."
   ]
  },
  {
   "cell_type": "markdown",
   "metadata": {
    "collapsed": true
   },
   "source": [
    "<table align=\"left\">\n",
    "    <tr>\n",
    "        <td width=\"6%\">\n",
    "            <img src=\"question_icon.png\">\n",
    "        </td>\n",
    "        <td>\n",
    "            <div align=\"left\", style=\"font-size:120%\">\n",
    "                <font color=\"#21618C\">\n",
    "                    <b>8. During a pandemic, the sales manager of CleanSteam claims that the median sale of steamer machines is more than 256 dollars. The sample of sales for 10 days is recorded. Test the manager's claim at 95% confidence using p-value technique. </b>\n",
    "                </font>\n",
    "            </div>\n",
    "        </td>\n",
    "    </tr>\n",
    "</table>"
   ]
  },
  {
   "cell_type": "markdown",
   "metadata": {},
   "source": [
    "Given data:\n",
    "\n",
    "        sales = [315, 241, 294, 242, 290, 236, 222, 308, 310, 235]"
   ]
  },
  {
   "cell_type": "code",
   "execution_count": 65,
   "metadata": {},
   "outputs": [
    {
     "name": "stdout",
     "output_type": "stream",
     "text": [
      "ShapiroResult(statistic=0.8406643867492676, pvalue=0.044940389692783356)\n",
      "p-value: 0.1376953125\n"
     ]
    }
   ],
   "source": [
    "sales = [315, 241, 294, 242, 290, 236, 222, 308, 310, 235]\n",
    "\n",
    "print(shapiro(sales))\n",
    "# data is not normal as p val < alpha.\n",
    "\n",
    "mu = 256\n",
    "test_stat, p_value = stats.wilcoxon(x = np.array(sales) - mu , alternative = 'greater')\n",
    "\n",
    "# print the p-value\n",
    "print('p-value:', p_value)\n",
    "\n",
    "# since p_value> alpha, we fail to reject null and the median sale of steamer machines is not more than 256 dollars."
   ]
  },
  {
   "cell_type": "markdown",
   "metadata": {
    "collapsed": true
   },
   "source": [
    "<table align=\"left\">\n",
    "    <tr>\n",
    "        <td width=\"6%\">\n",
    "            <img src=\"question_icon.png\">\n",
    "        </td>\n",
    "        <td>\n",
    "            <div align=\"left\", style=\"font-size:120%\">\n",
    "                <font color=\"#21618C\">\n",
    "                    <b>9. A pharmaceutical company in Manhattan claims that its new HighView tablet is effective in increasing the height of children. The data of heights (in cm) of 7 children is recorded before and after consuming the tablet. Test the company's claim at a 10% level of significance using the p-value. </b>\n",
    "                </font>\n",
    "            </div>\n",
    "        </td>\n",
    "    </tr>\n",
    "</table>"
   ]
  },
  {
   "cell_type": "markdown",
   "metadata": {},
   "source": [
    "Given data:\n",
    "        \n",
    "        ht_before = [121, 125, 130, 120, 145, 126, 134]\n",
    "        ht_after = [130, 129, 148, 122, 147, 130, 148]"
   ]
  },
  {
   "cell_type": "code",
   "execution_count": 70,
   "metadata": {},
   "outputs": [
    {
     "name": "stdout",
     "output_type": "stream",
     "text": [
      "ShapiroResult(statistic=0.9131380319595337, pvalue=0.41802871227264404)\n",
      "p-value: 0.0078125\n"
     ]
    }
   ],
   "source": [
    "ht_before = np.array([121, 125, 130, 120, 145, 126, 134])\n",
    "ht_after = np.array([130, 129, 148, 122, 147, 130, 148])\n",
    "print(shapiro(ht_before+ht_after))\n",
    "# data is not normal as p val < alpha.\n",
    "mu = 256\n",
    "test_stat, p_value = stats.wilcoxon(x = ht_after - ht_before , alternative = 'greater')\n",
    "# print the p-value\n",
    "print('p-value:', p_value)\n",
    "\n",
    "# since p value < alpha, new HighView tablet is effective in increasing the height of children."
   ]
  },
  {
   "cell_type": "markdown",
   "metadata": {
    "collapsed": true
   },
   "source": [
    "<table align=\"left\">\n",
    "    <tr>\n",
    "        <td width=\"6%\">\n",
    "            <img src=\"question_icon.png\">\n",
    "        </td>\n",
    "        <td>\n",
    "            <div align=\"left\", style=\"font-size:120%\">\n",
    "                <font color=\"#21618C\">\n",
    "                    <b>10. Research suggests that the fat content (in g) in the rice-bran oil of Nutura products is less than that of Markgen products. To test this claim we have recorded the fat content in 6 packs of 100 g oil from both the companies. Consider a 5% level of significance.</b>\n",
    "                </font>\n",
    "            </div>\n",
    "        </td>\n",
    "    </tr>\n",
    "</table>"
   ]
  },
  {
   "cell_type": "markdown",
   "metadata": {},
   "source": [
    "Given data:\n",
    "\n",
    "        Nutura_fat = [99.5, 98, 98.6, 98.2, 96.8, 98.4]\n",
    "        Markgen_fat = [ 98.7, 91.8, 92.6, 97.5, 93, 96.1]"
   ]
  },
  {
   "cell_type": "code",
   "execution_count": 75,
   "metadata": {},
   "outputs": [
    {
     "name": "stdout",
     "output_type": "stream",
     "text": [
      "ShapiroResult(statistic=0.8378211259841919, pvalue=0.026051675900816917)\n",
      "p-value: 0.977336218961014\n"
     ]
    }
   ],
   "source": [
    "Nutura_fat = [99.5, 98, 98.6, 98.2, 96.8, 98.4]\n",
    "Markgen_fat = [ 98.7, 91.8, 92.6, 97.5, 93, 96.1]\n",
    "print(shapiro(Nutura_fat+Markgen_fat))\n",
    "\n",
    "# data is not normal as p_val < alpha.\n",
    "test_stat, p_value = stats.mannwhitneyu(Nutura_fat, Markgen_fat, alternative = 'less')\n",
    "\n",
    "# print the p-value\n",
    "print('p-value:', p_value)\n",
    "# we fail to reject null.\n",
    "# the fat content (in g) in the rice-bran oil of Nutura products is not less than that of Markgen products."
   ]
  }
 ],
 "metadata": {
  "kernelspec": {
   "display_name": "Python 3",
   "language": "python",
   "name": "python3"
  },
  "language_info": {
   "codemirror_mode": {
    "name": "ipython",
    "version": 3
   },
   "file_extension": ".py",
   "mimetype": "text/x-python",
   "name": "python",
   "nbconvert_exporter": "python",
   "pygments_lexer": "ipython3",
   "version": "3.8.3"
  }
 },
 "nbformat": 4,
 "nbformat_minor": 2
}
