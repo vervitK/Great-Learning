{
 "cells": [
  {
   "cell_type": "markdown",
   "metadata": {},
   "source": [
    "<table align=\"center\" width=100%>\n",
    "    <tr>\n",
    "        <td width=\"15%\">\n",
    "            <img src=\"homework.png\">\n",
    "        </td>\n",
    "        <td>\n",
    "            <div align=\"center\">\n",
    "                <font color=\"#21618C\" size=8px>\n",
    "                    <b> Take-Home <br>(Day 1)\n",
    "                    </b>\n",
    "                </font>\n",
    "            </div>\n",
    "        </td>\n",
    "    </tr>\n",
    "</table>"
   ]
  },
  {
   "cell_type": "markdown",
   "metadata": {},
   "source": [
    "**Import the required libraries**"
   ]
  },
  {
   "cell_type": "code",
   "execution_count": null,
   "metadata": {},
   "outputs": [],
   "source": [
    "# import 'pandas'\n",
    "import pandas as pd\n",
    "\n",
    "# import 'numpy' \n",
    "import numpy as np\n",
    "\n",
    "# to suppress warnings \n",
    "from warnings import filterwarnings\n",
    "filterwarnings('ignore')\n",
    "\n",
    "# import 'factorial' from math library\n",
    "from math import factorial\n",
    "\n",
    "# import 'stats' package from scipy library\n",
    "from scipy import stats\n",
    "from scipy.stats import randint\n",
    "\n",
    "# import 'random' to generate a random sample\n",
    "import random"
   ]
  },
  {
   "cell_type": "markdown",
   "metadata": {},
   "source": [
    "### Let's begin with some hands-on practice exercises"
   ]
  },
  {
   "cell_type": "markdown",
   "metadata": {
    "collapsed": true
   },
   "source": [
    "<table align=\"left\">\n",
    "    <tr>\n",
    "        <td width=\"6%\">\n",
    "            <img src=\"question_icon.png\">\n",
    "        </td>\n",
    "        <td>\n",
    "            <div align=\"left\", style=\"font-size:120%\">\n",
    "                <font color=\"#21618C\">\n",
    "                    <b>1. A gift package contains 4 sandalwood perfumes, 6 cherry blossom perfumes and 8 rose perfumes. Two perfumes are randomly selected. Calculate the probability that the sandalwood perfumes are not selected? </b>\n",
    "                </font>\n",
    "            </div>\n",
    "        </td>\n",
    "    </tr>\n",
    "</table>"
   ]
  },
  {
   "cell_type": "code",
   "execution_count": 16,
   "metadata": {},
   "outputs": [
    {
     "name": "stdout",
     "output_type": "stream",
     "text": [
      "probability that the sandalwood perfumes are not selected 0.04\n"
     ]
    }
   ],
   "source": [
    "s = 4/18\n",
    "c = 6/18\n",
    "r = 8/18\n",
    "# probability that sandalwood are not selected = 1 - probability that both are sandalwood\n",
    "prob1 = (4/18) * (3/17)\n",
    "print('probability that the sandalwood perfumes are not selected',round(prob1,2))"
   ]
  },
  {
   "cell_type": "markdown",
   "metadata": {
    "collapsed": true
   },
   "source": [
    "<table align=\"left\">\n",
    "    <tr>\n",
    "        <td width=\"6%\">\n",
    "            <img src=\"question_icon.png\">\n",
    "        </td>\n",
    "        <td>\n",
    "            <div align=\"left\", style=\"font-size:120%\">\n",
    "                <font color=\"#21618C\">\n",
    "                    <b>2. The students' committee had organized a fun gala at their school. Three friends Jack, Mark and Bran have participated in the bucketball game and successfully threw the ball in a bucket with the probability 0.65, 0.6, 0.7 respectively. What is the probability that Bran will miss the target given that Mark threw the ball successfully?</b>\n",
    "                </font>\n",
    "            </div>\n",
    "        </td>\n",
    "    </tr>\n",
    "</table>"
   ]
  },
  {
   "cell_type": "code",
   "execution_count": 12,
   "metadata": {},
   "outputs": [
    {
     "name": "stdout",
     "output_type": "stream",
     "text": [
      "probability that Bran will miss the target given that Mark threw the ball successfully =  0.3\n"
     ]
    }
   ],
   "source": [
    "j = 0.65\n",
    "m = 0.6\n",
    "b = 0.7\n",
    "print('probability that Bran will miss the target given that Mark threw the ball successfully = ' ,round((1-0.7),2))"
   ]
  },
  {
   "cell_type": "markdown",
   "metadata": {
    "collapsed": true
   },
   "source": [
    "<table align=\"left\">\n",
    "    <tr>\n",
    "        <td width=\"6%\">\n",
    "            <img src=\"question_icon.png\">\n",
    "        </td>\n",
    "        <td>\n",
    "            <div align=\"left\", style=\"font-size:120%\">\n",
    "                <font color=\"#21618C\">\n",
    "                    <b>3. Japanese council has released a list of cities that are either at high or moderate risk for an earthquake. The odds that a city picked at random will be at high risk is a:8. The probability of selecting a city with high risk is 0.6. Find the number of cities in the list with high risk.\n",
    "</b>\n",
    "                </font>\n",
    "            </div>\n",
    "        </td>\n",
    "    </tr>\n",
    "</table>"
   ]
  },
  {
   "cell_type": "code",
   "execution_count": null,
   "metadata": {},
   "outputs": [],
   "source": [
    "# question typed wrongly, improper term a:8 ?"
   ]
  },
  {
   "cell_type": "markdown",
   "metadata": {
    "collapsed": true
   },
   "source": [
    "<table align=\"left\">\n",
    "    <tr>\n",
    "        <td width=\"6%\">\n",
    "            <img src=\"question_icon.png\">\n",
    "        </td>\n",
    "        <td>\n",
    "            <div align=\"left\", style=\"font-size:120%\">\n",
    "                <font color=\"#21618C\">\n",
    "                    <b>4. Let X be a discrete random variable representing the number of accidents happening per day at a chemical factory. What should be the value of k such that P(X=x) will be a probability mass function of X. Also find the probability that at most 2 accidents will occur in a day. </b>\n",
    "                </font>\n",
    "            </div>\n",
    "        </td>\n",
    "    </tr>\n",
    "</table>"
   ]
  },
  {
   "cell_type": "markdown",
   "metadata": {},
   "source": [
    "<img src='prob.png', width=30% >"
   ]
  },
  {
   "cell_type": "code",
   "execution_count": 18,
   "metadata": {},
   "outputs": [
    {
     "name": "stdout",
     "output_type": "stream",
     "text": [
      "0.9772498680518208 is the probability\n"
     ]
    }
   ],
   "source": [
    "# image not shown/opening\n",
    "from scipy import stats   \n",
    "print(stats.norm.cdf(2,loc=0,scale=1),'is the probability')"
   ]
  },
  {
   "cell_type": "markdown",
   "metadata": {
    "collapsed": true
   },
   "source": [
    "<table align=\"left\">\n",
    "    <tr>\n",
    "        <td width=\"6%\">\n",
    "            <img src=\"question_icon.png\">\n",
    "        </td>\n",
    "        <td>\n",
    "            <div align=\"left\", style=\"font-size:120%\">\n",
    "                <font color=\"#21618C\">\n",
    "                    <b>5. On an online payment gateway, on average 9 out of 25 customers are getting an error while redeeming the gift coupon. A random sample of 40 customers is selected. Find the probability that at most 16 customers will get the same error. \n",
    "</b>\n",
    "                </font>\n",
    "            </div>\n",
    "        </td>\n",
    "    </tr>\n",
    "</table>"
   ]
  },
  {
   "cell_type": "code",
   "execution_count": 28,
   "metadata": {},
   "outputs": [
    {
     "name": "stdout",
     "output_type": "stream",
     "text": [
      "probability that at most 16 customers will get the same error = 0.35\n"
     ]
    }
   ],
   "source": [
    "x = 9/25\n",
    "n = 40\n",
    "p = round(x*n)\n",
    "print('probability that at most 16 customers will get the same error =',p/n)"
   ]
  },
  {
   "cell_type": "markdown",
   "metadata": {
    "collapsed": true
   },
   "source": [
    "<table align=\"left\">\n",
    "    <tr>\n",
    "        <td width=\"6%\">\n",
    "            <img src=\"question_icon.png\">\n",
    "        </td>\n",
    "        <td>\n",
    "            <div align=\"left\", style=\"font-size:120%\">\n",
    "                <font color=\"#21618C\">\n",
    "                    <b>6. The previous month's record shows that on average 12 parcels are collected per day at the Perk courier service. Assume that the number of parcels collected per day follows poisson distribution. Calculate the probability that 10 parcels will be collected tomorrow.</b>\n",
    "                </font>\n",
    "            </div>\n",
    "        </td>\n",
    "    </tr>\n",
    "</table>"
   ]
  },
  {
   "cell_type": "code",
   "execution_count": 34,
   "metadata": {},
   "outputs": [
    {
     "name": "stdout",
     "output_type": "stream",
     "text": [
      "0.105  : probability that 10 parcels will be collected tomorrow\n"
     ]
    }
   ],
   "source": [
    "x = 12\n",
    "n = 10\n",
    "prob6 = round(stats.poisson.pmf(k = 10, mu = 12),3)\n",
    "print(prob6,' : probability that 10 parcels will be collected tomorrow')"
   ]
  },
  {
   "cell_type": "markdown",
   "metadata": {
    "collapsed": true
   },
   "source": [
    "<table align=\"left\">\n",
    "    <tr>\n",
    "        <td width=\"6%\">\n",
    "            <img src=\"question_icon.png\">\n",
    "        </td>\n",
    "        <td>\n",
    "            <div align=\"left\", style=\"font-size:120%\">\n",
    "                <font color=\"#21618C\">\n",
    "                    <b>7. The thickness of a pizza is between 3 and 7 mm. All the values for thinckness are considered to be equally likely. Calculate the median thickness.\n",
    "</b>\n",
    "                </font>\n",
    "            </div>\n",
    "        </td>\n",
    "    </tr>\n",
    "</table>"
   ]
  },
  {
   "cell_type": "code",
   "execution_count": 47,
   "metadata": {},
   "outputs": [
    {
     "name": "stdout",
     "output_type": "stream",
     "text": [
      "0.25 is the probability\n",
      "5.0 is the median thickness\n"
     ]
    }
   ],
   "source": [
    "prob7 = stats.uniform.pdf(x = 5, loc = 3, scale = 4)\n",
    "print(prob7,'is the probability')\n",
    "print(stats.uniform.median(loc = 3, scale = 4),'is the median thickness')"
   ]
  },
  {
   "cell_type": "markdown",
   "metadata": {
    "collapsed": true
   },
   "source": [
    "<table align=\"left\">\n",
    "    <tr>\n",
    "        <td width=\"6%\">\n",
    "            <img src=\"question_icon.png\">\n",
    "        </td>\n",
    "        <td>\n",
    "            <div align=\"left\", style=\"font-size:120%\">\n",
    "                <font color=\"#21618C\">\n",
    "                    <b>8. The survey by road safety department states that the in the Oneonta city the average speed of vehicle is 65 mph and the standard deviation is 9 mph. Find the probability that a randomly selected vehicle has a speed greater than 78 mph.\n",
    "</b>\n",
    "                </font>\n",
    "            </div>\n",
    "        </td>\n",
    "    </tr>\n",
    "</table>"
   ]
  },
  {
   "cell_type": "code",
   "execution_count": 50,
   "metadata": {},
   "outputs": [
    {
     "name": "stdout",
     "output_type": "stream",
     "text": [
      "0.07430699822760589 : probability that a randomly selected vehicle has a speed greater than 78 mph\n"
     ]
    }
   ],
   "source": [
    "avg = 65\n",
    "std = 9\n",
    "print(1 - stats.norm.cdf(78,loc=avg,scale=std),': probability that a randomly selected vehicle has a speed greater than 78 mph')"
   ]
  },
  {
   "cell_type": "markdown",
   "metadata": {
    "collapsed": true
   },
   "source": [
    "<table align=\"left\">\n",
    "    <tr>\n",
    "        <td width=\"6%\">\n",
    "            <img src=\"question_icon.png\">\n",
    "        </td>\n",
    "        <td>\n",
    "            <div align=\"left\", style=\"font-size:120%\">\n",
    "                <font color=\"#21618C\">\n",
    "                    <b>9. A wrist-watch company wants to perform a quality check before launching their next-generation k22-digital watch. The production team has delivered 30 watches with number tags as 1,2,...30 on each watch for the quality check. Pick 5 watches randomly to check the quality. </b>\n",
    "                </font>\n",
    "            </div>\n",
    "        </td>\n",
    "    </tr>\n",
    "</table>"
   ]
  },
  {
   "cell_type": "code",
   "execution_count": 66,
   "metadata": {},
   "outputs": [
    {
     "name": "stdout",
     "output_type": "stream",
     "text": [
      "3\n",
      "19\n",
      "29\n",
      "30\n",
      "27\n"
     ]
    }
   ],
   "source": [
    "n = 30\n",
    "import numpy as np\n",
    "import random\n",
    "print(np.random.randint(1,31))\n",
    "print(np.random.randint(1,31))\n",
    "print(np.random.randint(1,31))\n",
    "print(np.random.randint(1,31))\n",
    "print(np.random.randint(1,31))"
   ]
  },
  {
   "cell_type": "markdown",
   "metadata": {
    "collapsed": true
   },
   "source": [
    "<table align=\"left\">\n",
    "    <tr>\n",
    "        <td width=\"6%\">\n",
    "            <img src=\"question_icon.png\">\n",
    "        </td>\n",
    "        <td>\n",
    "            <div align=\"left\", style=\"font-size:120%\">\n",
    "                <font color=\"#21618C\">\n",
    "                    <b>10. Use the same set of 30 watches considered in the previous question and draw a systematic sample of 5 watches starting with the 4th watch.</b>\n",
    "                </font>\n",
    "            </div>\n",
    "        </td>\n",
    "    </tr>\n",
    "</table>"
   ]
  },
  {
   "cell_type": "code",
   "execution_count": 63,
   "metadata": {},
   "outputs": [
    {
     "name": "stdout",
     "output_type": "stream",
     "text": [
      "[27, 22, 12, 18, 24]\n"
     ]
    }
   ],
   "source": [
    "print(random.choices(population = np.arange(4,31), k = 5))"
   ]
  }
 ],
 "metadata": {
  "kernelspec": {
   "display_name": "Python 3",
   "language": "python",
   "name": "python3"
  },
  "language_info": {
   "codemirror_mode": {
    "name": "ipython",
    "version": 3
   },
   "file_extension": ".py",
   "mimetype": "text/x-python",
   "name": "python",
   "nbconvert_exporter": "python",
   "pygments_lexer": "ipython3",
   "version": "3.8.3"
  }
 },
 "nbformat": 4,
 "nbformat_minor": 2
}
